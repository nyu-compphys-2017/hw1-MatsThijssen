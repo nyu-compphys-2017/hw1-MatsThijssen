{
 "cells": [
  {
   "cell_type": "code",
   "execution_count": 1,
   "metadata": {
    "collapsed": true
   },
   "outputs": [],
   "source": [
    "import numpy as np\n",
    "#from pylab import imshow,show, gray\n",
    "import matplotlib.pyplot as plt"
   ]
  },
  {
   "cell_type": "code",
   "execution_count": 2,
   "metadata": {},
   "outputs": [
    {
     "name": "stderr",
     "output_type": "stream",
     "text": [
      "/home/mats/anaconda3/lib/python3.6/site-packages/ipykernel_launcher.py:30: VisibleDeprecationWarning: using a non-integer number instead of an integer will result in an error in the future\n",
      "/home/mats/anaconda3/lib/python3.6/site-packages/ipykernel_launcher.py:32: VisibleDeprecationWarning: using a non-integer number instead of an integer will result in an error in the future\n"
     ]
    }
   ],
   "source": [
    "Data=np.empty([1001,1001]) #Initialize data-array\n",
    "\n",
    "\n",
    "\n",
    "\n",
    "z_real=0\n",
    "z_imag=0\n",
    "\n",
    "step=4/1000 #Step size\n",
    "#Loop through different values for c (x real part, y imaginary part) and check if they hold up through 100 iterations.\n",
    "\n",
    "for x in np.arange(-2,2+step,step):\n",
    "    for y in np.arange(-2,2+step,step):\n",
    "        fail='no'\n",
    "        z_real=0\n",
    "        z_imag=0\n",
    "        zmag=z_real**2+z_imag**2\n",
    "        zsqreal=z_real**2-z_imag**2\n",
    "        zsqimag=2*z_real*z_imag\n",
    "        for i in range(0,100):\n",
    "            z_real=zsqreal+x\n",
    "            z_imag=zsqimag+y\n",
    "            zmag=z_real**2+z_imag**2\n",
    "            zsqreal=z_real**2-z_imag**2\n",
    "            zsqimag=2*z_real*z_imag\n",
    "            if abs(zmag)>2:\n",
    "                fail='yes' #If they don't hold, fail them.\n",
    "                break\n",
    "        if fail=='yes':\n",
    "            Data[(2+y)/step,(2+x)/step]=0 #If they fail, give the point value '0'\n",
    "        else:\n",
    "            Data[(2+y)/step,(2+x)/step]=1 #If they succeed, give the point value 1\n"
   ]
  },
  {
   "cell_type": "code",
   "execution_count": 3,
   "metadata": {
    "scrolled": false
   },
   "outputs": [
    {
     "data": {
      "image/png": "[encoded data removed]",
      "text/plain": [
       "<matplotlib.figure.Figure at 0x7fcdbb986860>"
      ]
     },
     "metadata": {},
     "output_type": "display_data"
    }
   ],
   "source": [
    "#Plot!\n",
    "plt.figure(figsize=(10,10), dpi=80)\n",
    "plt.imshow(Data, origin='lower')\n",
    "plt.set_cmap('gray_r')\n",
    "plt.show()\n"
   ]
  },
  {
   "cell_type": "code",
   "execution_count": null,
   "metadata": {
    "collapsed": true
   },
   "outputs": [],
   "source": []
  }
 ],
 "metadata": {
  "kernelspec": {
   "display_name": "Python 3",
   "language": "python",
   "name": "python3"
  },
  "language_info": {
   "codemirror_mode": {
    "name": "ipython",
    "version": 3
   },
   "file_extension": ".py",
   "mimetype": "text/x-python",
   "name": "python",
   "nbconvert_exporter": "python",
   "pygments_lexer": "ipython3",
   "version": "3.6.1"
  }
 },
 "nbformat": 4,
 "nbformat_minor": 2
}
